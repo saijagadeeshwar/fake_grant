{
  "nbformat": 4,
  "nbformat_minor": 0,
  "metadata": {
    "colab": {
      "provenance": []
    },
    "kernelspec": {
      "name": "python3",
      "display_name": "Python 3"
    },
    "language_info": {
      "name": "python"
    }
  },
  "cells": [
    {
      "cell_type": "code",
      "execution_count": 1,
      "metadata": {
        "colab": {
          "base_uri": "https://localhost:8080/",
          "height": 35
        },
        "id": "laWcevcYAJUN",
        "outputId": "74912bce-917a-4b5d-c654-ac820c4061ce"
      },
      "outputs": [
        {
          "output_type": "execute_result",
          "data": {
            "text/plain": [
              "'decision_tree.png'"
            ],
            "application/vnd.google.colaboratory.intrinsic+json": {
              "type": "string"
            }
          },
          "metadata": {},
          "execution_count": 1
        }
      ],
      "source": [
        "from graphviz import Digraph\n",
        "\n",
        "# Create a new directed graph\n",
        "tree = Digraph(comment='Decision Tree for Genuine vs Fabricated Content')\n",
        "\n",
        "# Nodes\n",
        "tree.node('A', 'Check HTTPS')\n",
        "tree.node('B', 'Grammar Check')\n",
        "tree.node('C', 'Fabricated')\n",
        "tree.node('D', 'Keyword Analysis')\n",
        "tree.node('E', 'Genuine')\n",
        "tree.node('F', 'Contains \"FREE,\" \"HURRY\"')\n",
        "tree.node('G', 'Does Not Contain Keywords')\n",
        "\n",
        "# Edges\n",
        "tree.edge('A', 'B', label='Yes')\n",
        "tree.edge('A', 'C', label='No')\n",
        "tree.edge('B', 'D', label='High Grammar Errors')\n",
        "tree.edge('B', 'E', label='Low Grammar Errors')\n",
        "tree.edge('D', 'F', label='Keywords Found')\n",
        "tree.edge('D', 'G', label='No Keywords Found')\n",
        "tree.edge('F', 'C', label='Classify as Fabricated')\n",
        "tree.edge('G', 'E', label='Classify as Genuine')\n",
        "\n",
        "# Render and display\n",
        "tree.render('decision_tree', format='png', cleanup=True)\n"
      ]
    }
  ]
}