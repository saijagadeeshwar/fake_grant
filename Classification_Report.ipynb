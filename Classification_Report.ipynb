{
  "nbformat": 4,
  "nbformat_minor": 0,
  "metadata": {
    "colab": {
      "provenance": []
    },
    "kernelspec": {
      "name": "python3",
      "display_name": "Python 3"
    },
    "language_info": {
      "name": "python"
    }
  },
  "cells": [
    {
      "cell_type": "code",
      "execution_count": 1,
      "metadata": {
        "colab": {
          "base_uri": "https://localhost:8080/"
        },
        "id": "3U57vx4QM7-B",
        "outputId": "afd62cb8-2ee5-42b3-8dcb-c541aaba96c4"
      },
      "outputs": [
        {
          "output_type": "stream",
          "name": "stdout",
          "text": [
            "Model Accuracy: 1.0\n",
            "\n",
            "Classification Report:\n",
            "               precision    recall  f1-score   support\n",
            "\n",
            "        fake       1.00      1.00      1.00         1\n",
            "     genuine       1.00      1.00      1.00         1\n",
            "\n",
            "    accuracy                           1.00         2\n",
            "   macro avg       1.00      1.00      1.00         2\n",
            "weighted avg       1.00      1.00      1.00         2\n",
            "\n"
          ]
        }
      ],
      "source": [
        "import pandas as pd\n",
        "from sklearn.feature_extraction.text import CountVectorizer\n",
        "from sklearn.model_selection import train_test_split\n",
        "from sklearn.ensemble import RandomForestClassifier\n",
        "from sklearn.metrics import accuracy_score, classification_report\n",
        "\n",
        "# Step 1: Create a dataset\n",
        "data = [\n",
        "    {\"text\": \"Government provides grants on its official site: usa.gov.\", \"label\": \"genuine\"},\n",
        "    {\"text\": \"Click this link for instant $10,000 rewards!\", \"label\": \"fake\"},\n",
        "    {\"text\": \"Eligibility criteria for financial aid are on this verified government page.\", \"label\": \"genuine\"},\n",
        "    {\"text\": \"Free cash rewards for everyone, no criteria needed. Apply now!\", \"label\": \"fake\"},\n",
        "    {\"text\": \"Legitimate grants require application via secure forms.\", \"label\": \"genuine\"},\n",
        "    {\"text\": \"Congratulations! You've been pre-approved for unclaimed funds!\", \"label\": \"fake\"},\n",
        "]\n",
        "\n",
        "# Convert dataset to DataFrame\n",
        "df = pd.DataFrame(data)\n",
        "\n",
        "# Step 2: Feature extraction using CountVectorizer\n",
        "vectorizer = CountVectorizer()\n",
        "X = vectorizer.fit_transform(df['text'])  # Convert text data to numerical features\n",
        "y = df['label']  # Target labels\n",
        "\n",
        "# Step 3: Split data into training and testing sets\n",
        "X_train, X_test, y_train, y_test = train_test_split(X, y, test_size=0.33, random_state=42)\n",
        "\n",
        "# Step 4: Train the Random Forest Classifier\n",
        "clf = RandomForestClassifier(random_state=42)\n",
        "clf.fit(X_train, y_train)\n",
        "\n",
        "# Step 5: Make predictions on the test set\n",
        "y_pred = clf.predict(X_test)\n",
        "\n",
        "# Step 6: Evaluate the model\n",
        "accuracy = accuracy_score(y_test, y_pred)\n",
        "report = classification_report(y_test, y_pred)\n",
        "\n",
        "# Output the results\n",
        "print(\"Model Accuracy:\", accuracy)\n",
        "print(\"\\nClassification Report:\\n\", report)\n"
      ]
    }
  ]
}